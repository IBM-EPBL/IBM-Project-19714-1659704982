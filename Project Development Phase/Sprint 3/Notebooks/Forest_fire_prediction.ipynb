{
  "nbformat": 4,
  "nbformat_minor": 0,
  "metadata": {
    "colab": {
      "provenance": []
    },
    "kernelspec": {
      "name": "python3",
      "display_name": "Python 3"
    },
    "language_info": {
      "name": "python"
    }
  },
  "cells": [
    {
      "cell_type": "code",
      "execution_count": null,
      "metadata": {
        "id": "OVX2zUE9NOAR"
      },
      "outputs": [],
      "source": [
        "import numpy as np\n",
        "import pandas as pd\n",
        "\n",
        "from sklearn.model_selection import train_test_split\n",
        "from sklearn.preprocessing import StandardScaler\n",
        "\n",
        "from sklearn.linear_model import LinearRegression,LogisticRegression\n",
        "from sklearn.neural_network import MLPClassifier,MLPRegressor\n",
        "\n",
        "from sklearn.tree import DecisionTreeRegressor as dtr\n",
        "from sklearn.ensemble import RandomForestRegressor\n",
        "\n",
        "from sklearn.metrics import mean_squared_error as mse\n",
        "from sklearn.metrics import mean_absolute_error as mae\n",
        "from sklearn.metrics import r2_score\n",
        "\n",
        "import warnings\n",
        "warnings.filterwarnings(action='ignore')"
      ]
    },
    {
      "cell_type": "code",
      "source": [
        "df=pd.read_csv('/content/forestfires.csv')"
      ],
      "metadata": {
        "id": "STCdJEllNSA-"
      },
      "execution_count": null,
      "outputs": []
    },
    {
      "cell_type": "code",
      "source": [
        "df"
      ],
      "metadata": {
        "id": "d-vzOl3PNU5s"
      },
      "execution_count": null,
      "outputs": []
    },
    {
      "cell_type": "code",
      "source": [
        "df.info()"
      ],
      "metadata": {
        "id": "scM-0jBuNXKz"
      },
      "execution_count": null,
      "outputs": []
    },
    {
      "cell_type": "code",
      "source": [
        "df['month'].unique()"
      ],
      "metadata": {
        "id": "sQGTQveqNZZw"
      },
      "execution_count": null,
      "outputs": []
    },
    {
      "cell_type": "code",
      "source": [
        "df['day'].unique()"
      ],
      "metadata": {
        "id": "uOaKYSStNbmS"
      },
      "execution_count": null,
      "outputs": []
    },
    {
      "cell_type": "code",
      "source": [
        "df.head(10)"
      ],
      "metadata": {
        "id": "9s0Yc9ncNh5Q"
      },
      "execution_count": null,
      "outputs": []
    },
    {
      "cell_type": "markdown",
      "source": [
        "**Preprocessing**"
      ],
      "metadata": {
        "id": "t6feGDNPNnV_"
      }
    },
    {
      "cell_type": "code",
      "source": [
        "def ordinal_encoding(df,column,ordering):\n",
        "  df=df.copy()\n",
        "  df[column]=df[column].apply(lambda x: ordering.index(x))\n",
        "  return df"
      ],
      "metadata": {
        "id": "lDEvSrwNNkNc"
      },
      "execution_count": null,
      "outputs": []
    },
    {
      "cell_type": "code",
      "source": [
        "def preprocessing(df,task):\n",
        "  df=df.copy()\n",
        "  df=ordinal_encoding(\n",
        "      df,\n",
        "      column='month',\n",
        "      ordering=[\n",
        "                 'jan', 'feb', 'mar', 'apr', 'may', 'jun', 'jul', 'aug', 'sep',\n",
        "       'oct', 'nov', 'dec'\n",
        "       ]\n",
        "  )\n",
        "  df=ordinal_encoding(\n",
        "      df,\n",
        "      column='day',\n",
        "      ordering=['mon', 'tue', 'wed', 'thu', 'fri', 'sat', 'sun']\n",
        "  )\n",
        "  if task=='Regression':\n",
        "    Y=df['area']\n",
        "  elif task=='Classification':\n",
        "    Y=df['area'].apply(lambda x: 1 if x>0 else 0)\n",
        "\n",
        "  X=df.drop('area',axis=1)\n",
        "\n",
        "  X_train,X_test,Y_train,Y_test=train_test_split(X,Y,train_size=0.65,shuffle=True,random_state=1)\n",
        "\n",
        "  scaler=StandardScaler()\n",
        "  scaler.fit(X_train)\n",
        "\n",
        "  X_train=pd.DataFrame(scaler.transform(X_train),columns=X.columns)\n",
        "  X_test=pd.DataFrame(scaler.transform(X_test),columns=X.columns)\n",
        "\n",
        "  return X_train,X_test,Y_train,Y_test"
      ],
      "metadata": {
        "id": "cfvbFi5ANrNU"
      },
      "execution_count": null,
      "outputs": []
    },
    {
      "cell_type": "markdown",
      "source": [
        "**Splitting & Testing Models:**"
      ],
      "metadata": {
        "id": "HmmkjDnfNxBF"
      }
    },
    {
      "cell_type": "code",
      "source": [
        "X_train,X_test,Y_train,Y_test=preprocessing(df,task='Regression')"
      ],
      "metadata": {
        "id": "wHOFeiUqNuOU"
      },
      "execution_count": null,
      "outputs": []
    },
    {
      "cell_type": "code",
      "source": [
        "X_train.head()"
      ],
      "metadata": {
        "id": "vJWtf_-DN2E_"
      },
      "execution_count": null,
      "outputs": []
    },
    {
      "cell_type": "code",
      "source": [
        "X_test.head()"
      ],
      "metadata": {
        "id": "D06P2yPNN9qp"
      },
      "execution_count": null,
      "outputs": []
    },
    {
      "cell_type": "code",
      "source": [
        "Y_train.head()"
      ],
      "metadata": {
        "id": "6TclGOhTOAUo"
      },
      "execution_count": null,
      "outputs": []
    },
    {
      "cell_type": "code",
      "source": [
        "Y_test.head()"
      ],
      "metadata": {
        "id": "AL6UIPtVOCpB"
      },
      "execution_count": null,
      "outputs": []
    },
    {
      "cell_type": "markdown",
      "source": [
        "Linear **Regression**"
      ],
      "metadata": {
        "id": "FwECJ7CoOXoh"
      }
    },
    {
      "cell_type": "code",
      "source": [
        "#The maximum val. of R^2 can be 1.0 that signifies that Linear Regression is working really well.\n",
        "#Here R^2 score is 0.02051 which is really low signifying that LinearRegression is not doing well.\n",
        "linear_reg_model=LinearRegression()\n",
        "linear_reg_model.fit(X_train,Y_train)\n",
        "\n",
        "print(\"Performance of Linear Regression R^2 metric {:.5f}\".format(linear_reg_model.score(X_train,Y_train)))"
      ],
      "metadata": {
        "id": "oxuQ9DVhOHkQ"
      },
      "execution_count": null,
      "outputs": []
    },
    {
      "cell_type": "markdown",
      "source": [
        "**MLP Regressor Model**"
      ],
      "metadata": {
        "id": "6lILwYvMOdZw"
      }
    },
    {
      "cell_type": "code",
      "source": [
        "# We can see the MLP Regressor Model Works better than Linear Regression,however its works horrible as well.\n",
        "mlp_reg_model=MLPRegressor().fit(X_train,Y_train)\n",
        "print(\"Performance of MLP Regressor Model R^2 metric {:.5f}\".format(mlp_reg_model.score(X_train,Y_train)))"
      ],
      "metadata": {
        "id": "krdLvagHOazQ"
      },
      "execution_count": null,
      "outputs": []
    },
    {
      "cell_type": "markdown",
      "source": [
        "**Decision Tree Regressor**"
      ],
      "metadata": {
        "id": "hWLvMtG1OrO8"
      }
    },
    {
      "cell_type": "code",
      "source": [
        "#R2 score negative not a good fit!\n",
        "reg = dtr(random_state = 42)\n",
        "reg.fit(X_train, Y_train)\n",
        "Y_pred = reg.predict(X_test)\n",
        "print(\"MSE =\", mse(Y_pred, Y_test))\n",
        "print(\"MAE =\", mae(Y_pred, Y_test))\n",
        "print(\"R2 Score =\", r2_score(Y_pred, Y_test))"
      ],
      "metadata": {
        "id": "05ZzW2Z7On-D"
      },
      "execution_count": null,
      "outputs": []
    },
    {
      "cell_type": "markdown",
      "source": [
        "Random Forest Regressor"
      ],
      "metadata": {
        "id": "BmbJPceTPW2g"
      }
    },
    {
      "cell_type": "code",
      "source": [
        "#This works even worse than Decision Tree Regressor\n",
        "regr = RandomForestRegressor(max_depth=2, random_state=0, n_estimators=100)\n",
        "regr.fit(X_train, Y_train)\n",
        "Y_pred = regr.predict(X_test)\n",
        "print(\"MSE =\", mse(Y_pred, Y_test))\n",
        "print(\"MAE =\", mae(Y_pred, Y_test))\n",
        "print(\"R2 Score =\", r2_score(Y_pred, Y_test))"
      ],
      "metadata": {
        "id": "iLThPqvGPHfv"
      },
      "execution_count": null,
      "outputs": []
    },
    {
      "cell_type": "markdown",
      "source": [
        "**Logistic Regression**"
      ],
      "metadata": {
        "id": "vnMefNAJPh1J"
      }
    },
    {
      "cell_type": "code",
      "source": [
        "X_train,X_test,Y_train,Y_test=preprocessing(df,task='Classification')"
      ],
      "metadata": {
        "id": "F4Wae0ZKPfCi"
      },
      "execution_count": null,
      "outputs": []
    },
    {
      "cell_type": "code",
      "source": [
        "Y_train"
      ],
      "metadata": {
        "id": "b2lPlojlPlms"
      },
      "execution_count": null,
      "outputs": []
    },
    {
      "cell_type": "code",
      "source": [
        "log_reg_model=LogisticRegression()\n",
        "log_reg_model.fit(X_train,Y_train)\n",
        "\n",
        "print('Logistic Regression Accuracy, {:.5f}%'.format(log_reg_model.score(X_test,Y_test)*100))"
      ],
      "metadata": {
        "id": "qo7vdDqwPnu0"
      },
      "execution_count": null,
      "outputs": []
    },
    {
      "cell_type": "markdown",
      "source": [
        "**Neural Network Classifier**"
      ],
      "metadata": {
        "id": "Y7R9n50YPr30"
      }
    },
    {
      "cell_type": "code",
      "source": [
        "nn_classifier_model=MLPClassifier(activation='relu',hidden_layer_sizes=(16,16),n_iter_no_change=100,solver='adam')\n",
        "nn_classifier_model.fit(X_train,Y_train)"
      ],
      "metadata": {
        "id": "fUUNNnAXPpnH"
      },
      "execution_count": null,
      "outputs": []
    }
  ]
}