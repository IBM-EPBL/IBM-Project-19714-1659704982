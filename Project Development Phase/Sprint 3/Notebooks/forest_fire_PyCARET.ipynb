{
  "nbformat": 4,
  "nbformat_minor": 0,
  "metadata": {
    "colab": {
      "provenance": []
    },
    "kernelspec": {
      "name": "python3",
      "display_name": "Python 3"
    },
    "language_info": {
      "name": "python"
    }
  },
  "cells": [
    {
      "cell_type": "code",
      "execution_count": null,
      "metadata": {
        "id": "w_cgeC4uKiMJ"
      },
      "outputs": [],
      "source": [
        "!pip install -q pycaret"
      ]
    },
    {
      "cell_type": "code",
      "source": [
        "import pandas as pd"
      ],
      "metadata": {
        "id": "E_PdtpppKsj1"
      },
      "execution_count": null,
      "outputs": []
    },
    {
      "cell_type": "code",
      "source": [
        "data = pd.read_csv('/content/forestfires.csv')"
      ],
      "metadata": {
        "id": "8WnVlAH7KuoU"
      },
      "execution_count": null,
      "outputs": []
    },
    {
      "cell_type": "code",
      "source": [
        "data.head()"
      ],
      "metadata": {
        "id": "U-fdHoA9KzPR"
      },
      "execution_count": null,
      "outputs": []
    },
    {
      "cell_type": "code",
      "source": [
        "data['area'].count"
      ],
      "metadata": {
        "id": "sYk4BTrbK4y4"
      },
      "execution_count": null,
      "outputs": []
    },
    {
      "cell_type": "code",
      "source": [
        "data=data.drop(['X','Y','month','day'],axis=1)"
      ],
      "metadata": {
        "id": "FWOEtEXgK_44"
      },
      "execution_count": null,
      "outputs": []
    },
    {
      "cell_type": "code",
      "source": [
        "data.head()"
      ],
      "metadata": {
        "id": "FYz0gkxlLBqP"
      },
      "execution_count": null,
      "outputs": []
    },
    {
      "cell_type": "markdown",
      "source": [
        "**Regression** "
      ],
      "metadata": {
        "id": "bPoQZ2v2LGIg"
      }
    },
    {
      "cell_type": "code",
      "source": [
        "from pycaret.regression import *\n",
        "reg1 = setup(data = data, target = 'area')"
      ],
      "metadata": {
        "id": "s764-C7gLDbg"
      },
      "execution_count": null,
      "outputs": []
    },
    {
      "cell_type": "code",
      "source": [
        "best_model=compare_models(n_select=3)"
      ],
      "metadata": {
        "id": "FMaT7Z31LPnc"
      },
      "execution_count": null,
      "outputs": []
    },
    {
      "cell_type": "code",
      "source": [
        "print(best_model)"
      ],
      "metadata": {
        "id": "LA_p_quoLSOo"
      },
      "execution_count": null,
      "outputs": []
    },
    {
      "cell_type": "code",
      "source": [
        "huber_model=create_model('huber', fold = 20)"
      ],
      "metadata": {
        "id": "oZ60Ff_lLUDp"
      },
      "execution_count": null,
      "outputs": []
    },
    {
      "cell_type": "code",
      "source": [
        "plot_model(huber_model)"
      ],
      "metadata": {
        "id": "DNXyQLZZLV29"
      },
      "execution_count": null,
      "outputs": []
    },
    {
      "cell_type": "code",
      "source": [
        "plot_model(huber_model,'vc')"
      ],
      "metadata": {
        "id": "KrAh_5WVLXx1"
      },
      "execution_count": null,
      "outputs": []
    },
    {
      "cell_type": "code",
      "source": [
        "plot_model(huber_model,'error')\n"
      ],
      "metadata": {
        "id": "WVYevbZYLZ3X"
      },
      "execution_count": null,
      "outputs": []
    },
    {
      "cell_type": "markdown",
      "source": [
        "**Classification**"
      ],
      "metadata": {
        "id": "sOB3j_q9Ler5"
      }
    },
    {
      "cell_type": "code",
      "source": [
        "def preprocessing(df):\n",
        "  df=df.copy()\n",
        "  df['area']=df['area'].apply(lambda x: 1 if x>0 else 0)\n",
        "\n",
        "  return df"
      ],
      "metadata": {
        "id": "XRQWhB_kLcGy"
      },
      "execution_count": null,
      "outputs": []
    },
    {
      "cell_type": "code",
      "source": [
        "df=preprocessing(data)"
      ],
      "metadata": {
        "id": "BNFjZVeyLhuS"
      },
      "execution_count": null,
      "outputs": []
    },
    {
      "cell_type": "code",
      "source": [
        "df"
      ],
      "metadata": {
        "id": "9FgXppT_LleL"
      },
      "execution_count": null,
      "outputs": []
    },
    {
      "cell_type": "code",
      "source": [
        "from pycaret.classification import *\n",
        "reg2 = setup(data = df, target = 'area')"
      ],
      "metadata": {
        "id": "XaHh4EAdLqjM"
      },
      "execution_count": null,
      "outputs": []
    },
    {
      "cell_type": "code",
      "source": [
        "best_model=compare_models()"
      ],
      "metadata": {
        "id": "tYN80zt-Lsy6"
      },
      "execution_count": null,
      "outputs": []
    },
    {
      "cell_type": "code",
      "source": [
        "print(best_model)"
      ],
      "metadata": {
        "id": "9W2omtlpLvFD"
      },
      "execution_count": null,
      "outputs": []
    },
    {
      "cell_type": "code",
      "source": [
        "adaboost_model=create_model('ada', fold = 20)"
      ],
      "metadata": {
        "id": "hfButBqpLxWJ"
      },
      "execution_count": null,
      "outputs": []
    },
    {
      "cell_type": "code",
      "source": [
        "plot_model(adaboost_model)"
      ],
      "metadata": {
        "id": "tB6MhK2DMBTn"
      },
      "execution_count": null,
      "outputs": []
    },
    {
      "cell_type": "code",
      "source": [
        "plot_model(adaboost_model,'learning')"
      ],
      "metadata": {
        "id": "ocd-ePqaL1Kf"
      },
      "execution_count": null,
      "outputs": []
    },
    {
      "cell_type": "code",
      "source": [
        "tuned_adaboost=tune_model(adaboost_model,optimize='Accuracy')"
      ],
      "metadata": {
        "id": "NUoUKWIxL8Vy"
      },
      "execution_count": null,
      "outputs": []
    },
    {
      "cell_type": "code",
      "source": [
        "plot_model(tuned_adaboost,'learning')"
      ],
      "metadata": {
        "id": "97dq0kvDMGfz"
      },
      "execution_count": null,
      "outputs": []
    },
    {
      "cell_type": "code",
      "source": [
        "save_model(tuned_adaboost,'forestfiremodel')"
      ],
      "metadata": {
        "id": "-y_tG4WsMMEd"
      },
      "execution_count": null,
      "outputs": []
    }
  ]
}