{
  "nbformat": 4,
  "nbformat_minor": 0,
  "metadata": {
    "colab": {
      "provenance": []
    },
    "kernelspec": {
      "name": "python3",
      "display_name": "Python 3"
    },
    "language_info": {
      "name": "python"
    }
  },
  "cells": [
    {
      "cell_type": "markdown",
      "source": [
        "**EMERGING METHODS FOR EARLY DETECTION OF FOREST FIRE USING DEEP LEARNING**"
      ],
      "metadata": {
        "id": "jSBxQy3oCLWN"
      }
    },
    {
      "cell_type": "markdown",
      "source": [
        "**Team id :PNT2022TMID41540**"
      ],
      "metadata": {
        "id": "42TSpXZXCUwk"
      }
    },
    {
      "cell_type": "markdown",
      "source": [
        "**Importing Keras libraries**"
      ],
      "metadata": {
        "id": "73wDhL12CdtX"
      }
    },
    {
      "cell_type": "code",
      "execution_count": null,
      "metadata": {
        "id": "UMt_rW1fAAUL"
      },
      "outputs": [],
      "source": [
        "import keras\n",
        "from keras.preprocessing.image import ImageDataGenerator"
      ]
    },
    {
      "cell_type": "markdown",
      "source": [
        "**Importing ImageDataGenerator from Keras**"
      ],
      "metadata": {
        "id": "iVaOYMDMCl2z"
      }
    },
    {
      "cell_type": "code",
      "source": [
        "import matplotlib.pyplot as plt\n",
        "import numpy as np"
      ],
      "metadata": {
        "id": "Jix2W8pnAech"
      },
      "execution_count": null,
      "outputs": []
    },
    {
      "cell_type": "markdown",
      "source": [
        "**Define The Parameters /Arguments For ImageDataGenerator Class**"
      ],
      "metadata": {
        "id": "C55V5S2yAiek"
      }
    },
    {
      "cell_type": "code",
      "source": [
        "train_datagen=ImageDataGenerator(rescale=1./255,shear_range=0.2,rotation_range=180,zoom_range=0.2,horizontal_flip=True)\n",
        "test_datagen=ImageDataGenerator(rescale=1./255,shear_range=0.2,rotation_range=180,zoom_range=0.2,horizontal_flip=True)"
      ],
      "metadata": {
        "id": "ZCvv03itAgTW"
      },
      "execution_count": null,
      "outputs": []
    },
    {
      "cell_type": "markdown",
      "source": [
        "**Applying ImageDataGenerator functionality to train dataset**"
      ],
      "metadata": {
        "id": "JjhGAzmPCuA0"
      }
    },
    {
      "cell_type": "code",
      "source": [
        "from google.colab import drive\n",
        "drive.mount('/content/drive')"
      ],
      "metadata": {
        "id": "AW7D-nwyCwG0"
      },
      "execution_count": null,
      "outputs": []
    },
    {
      "cell_type": "code",
      "source": [
        "x_train=train_datagen.flow_from_directory('/content/drive/MyDrive/IBM PROJECT/dataset/DATA SET/archive/Dataset/Dataset/train_set',target_size=(64,64),"
      ],
      "metadata": {
        "id": "SFpiwcwuC0kp"
      },
      "execution_count": null,
      "outputs": []
    },
    {
      "cell_type": "markdown",
      "source": [
        "**Applying ImageDataGenerator functionality to test dataset**"
      ],
      "metadata": {
        "id": "NLYbV2fHC6T_"
      }
    },
    {
      "cell_type": "code",
      "source": [
        "x_test=test_datagen.flow_from_directory('/content/drive/MyDrive/IBM PROJECT/dataset/DATA SET/archive/Dataset/Dataset/test_set',target_size=(64,64),batch_size"
      ],
      "metadata": {
        "id": "AJ6viTTKC7vs"
      },
      "execution_count": null,
      "outputs": []
    },
    {
      "cell_type": "markdown",
      "source": [
        "**Importing Model Building Libraries**"
      ],
      "metadata": {
        "id": "9uHrrdiXDAkY"
      }
    },
    {
      "cell_type": "code",
      "source": [
        "#to define the linear Initialisation import sequential\n",
        "from keras.models import Sequential\n",
        "#to add layers import Dense\n",
        "from keras.layers import Dense\n",
        "#to create Convolutional kernel import convolution2D\n",
        "from keras.layers import Convolution2D\n",
        "#import Maxpooling layer \n",
        "from keras.layers import MaxPooling2D\n",
        "#import flatten layer\n",
        "from keras.layers import Flatten\n",
        "import warnings\n",
        "warnings.filterwarnings('ignore')"
      ],
      "metadata": {
        "id": "ZHedu552C-ip"
      },
      "execution_count": null,
      "outputs": []
    },
    {
      "cell_type": "markdown",
      "source": [
        "**Initializing the model**"
      ],
      "metadata": {
        "id": "Rgt0Y6ytDFaY"
      }
    },
    {
      "cell_type": "code",
      "source": [
        "model = Sequential()"
      ],
      "metadata": {
        "id": "rEnYEdwgDIjI"
      },
      "execution_count": null,
      "outputs": []
    },
    {
      "cell_type": "markdown",
      "source": [
        "**Adding CNN Layers**"
      ],
      "metadata": {
        "id": "Dd4U-88oDR4z"
      }
    },
    {
      "cell_type": "code",
      "source": [
        "model.add(Convolution2D(32,(3,3),input_shape=(64,64,3),activation='relu'))\n",
        "#add maxpooling layers\n",
        "model.add(MaxPooling2D(pool_size=(2,2)))\n",
        "#add faltten layer\n",
        "model.add(Flatten())"
      ],
      "metadata": {
        "id": "-BazrVH6DTg0"
      },
      "execution_count": null,
      "outputs": []
    },
    {
      "cell_type": "markdown",
      "source": [
        "**Add Dense layers**"
      ],
      "metadata": {
        "id": "kISlaocgDXsw"
      }
    },
    {
      "cell_type": "code",
      "source": [
        "#add hidden layers\n",
        "model.add(Dense(150,activation='relu'))\n",
        "#add output layer\n",
        "model.add(Dense(1,activation='sigmoid'))"
      ],
      "metadata": {
        "id": "i0ymIbAZDZOy"
      },
      "execution_count": null,
      "outputs": []
    },
    {
      "cell_type": "markdown",
      "source": [
        "**configuring the learning process**"
      ],
      "metadata": {
        "id": "fS3w4sJyDgR7"
      }
    },
    {
      "cell_type": "code",
      "source": [
        "model.compile(loss='binary_crossentropy',optimizer=\"adam\",metrics=[\"accuracy\"])"
      ],
      "metadata": {
        "id": "Ktx355ivDhpG"
      },
      "execution_count": null,
      "outputs": []
    },
    {
      "cell_type": "markdown",
      "source": [
        "**Training the model**"
      ],
      "metadata": {
        "id": "uAEISpkKDkBf"
      }
    },
    {
      "cell_type": "code",
      "source": [
        "model.fit_generator(x_train,steps_per_epoch=14,epochs=10,validation_data=x_test,validation_steps=4)"
      ],
      "metadata": {
        "id": "3IIeb8kMDnZj"
      },
      "execution_count": null,
      "outputs": []
    },
    {
      "cell_type": "markdown",
      "source": [
        "**Save the model**"
      ],
      "metadata": {
        "id": "khFrXxGtDr33"
      }
    },
    {
      "cell_type": "code",
      "source": [
        "model.save(\"forest.h5\")"
      ],
      "metadata": {
        "id": "5gpZXD2sDpnb"
      },
      "execution_count": null,
      "outputs": []
    },
    {
      "cell_type": "markdown",
      "source": [
        "**Predictions**"
      ],
      "metadata": {
        "id": "sEEhnmoGD0uY"
      }
    },
    {
      "cell_type": "code",
      "source": [
        "#import load model from keras.model\n",
        "from keras.models import load_model\n",
        "#import image from keras\n",
        "from tensorflow.keras.preprocessing import image\n",
        "import numpy as np\n",
        "#import cv2\n",
        "import cv2\n",
        "#load the saved model\n",
        "model=load_model(\"/content/drive/MyDrive/IBM PROJECT/dataset/forest.h5\")\n",
        "img=image.load_img('/content/drive/MyDrive/IBM PROJECT/dataset/DATA SET/archive/Dataset/Dataset/test_set/with fire/19464620_401.jpg')\n",
        "x=image.img_to_array(img)\n",
        "res=cv2.resize(x,dsize=(64,64),interpolation=cv2.INTER_CUBIC)\n",
        "#expand the image shape\n",
        "x=np.expand_dims(res,axis=0)"
      ],
      "metadata": {
        "id": "GrD_02EeD1zP"
      },
      "execution_count": null,
      "outputs": []
    },
    {
      "cell_type": "code",
      "source": [
        "pred=model.predict(x)\n",
        "pred = int(pred[0][0])\n",
        "pred\n",
        "int(pred)"
      ],
      "metadata": {
        "id": "InnEi8y3D6SZ"
      },
      "execution_count": null,
      "outputs": []
    },
    {
      "cell_type": "code",
      "source": [
        "pip install twilio"
      ],
      "metadata": {
        "id": "Ei57KAPOD8x8"
      },
      "execution_count": null,
      "outputs": []
    },
    {
      "cell_type": "code",
      "source": [
        "from twilio.rest import Client"
      ],
      "metadata": {
        "id": "fraCRJzdD-rA"
      },
      "execution_count": null,
      "outputs": []
    },
    {
      "cell_type": "code",
      "source": [
        "if pred==0:\n",
        "  print('Forest fire')\n",
        "  account_sid='AC0f20fb7b8e71118fa14d874dc2384676'\n",
        "  auth_token='74902c8f190f5a4d288bbf5e3b48c84e'\n",
        "  client=Client(account_sid,auth_token)\n",
        "  message=client.messages \\\n",
        "  .create(\n",
        "      body='forest fire is detected,stay alert',\n",
        "      #use twilio free number\n",
        "      from_='+18608542959',\n",
        "      #to number\n",
        "      to='+916380889559')\n",
        "  print(message.sid)\n",
        "  print(\"Fire detected\")\n",
        "  print(\"SMS Sent!\")\n",
        "elif pred==1:\n",
        "  print('No Fire')"
      ],
      "metadata": {
        "id": "QcFe45Z0D_OP"
      },
      "execution_count": null,
      "outputs": []
    },
    {
      "cell_type": "markdown",
      "source": [
        "**Open cv for video processing**"
      ],
      "metadata": {
        "id": "sAKoSq2MEMLk"
      }
    },
    {
      "cell_type": "code",
      "source": [
        "from keras.models import load_model\n",
        "from keras.preprocessing import image\n",
        "import numpy as np\n",
        "import cv2\n",
        "from PIL import Image, ImageOps"
      ],
      "metadata": {
        "id": "gbwktHY0ENoJ"
      },
      "execution_count": null,
      "outputs": []
    },
    {
      "cell_type": "code",
      "source": [
        "model=load_model(\"forest1.h5\")"
      ],
      "metadata": {
        "id": "-rHLVfAxEQ9H"
      },
      "execution_count": null,
      "outputs": []
    },
    {
      "cell_type": "code",
      "source": [
        "from logging import WARNING\n",
        "#import opencv library\n",
        "import cv2\n",
        "#import numpy\n",
        "import numpy as np\n",
        "#import image function from keras\n",
        "from keras.preprocessing import image\n",
        "#import load_model from keras\n",
        "from keras.models import load_model\n",
        "#import client from twilio API\n",
        "from twilio.rest import Client\n",
        "#import playsound package"
      ],
      "metadata": {
        "id": "387oUKdKEVg7"
      },
      "execution_count": null,
      "outputs": []
    },
    {
      "cell_type": "markdown",
      "source": [
        "**Importing Twilio and Connecting Twilio Account**\n"
      ],
      "metadata": {
        "id": "gXzaje1jEbOL"
      }
    },
    {
      "cell_type": "code",
      "source": [
        "from twilio.rest import Client\n",
        "from playsound import playsound"
      ],
      "metadata": {
        "id": "6U0IAnn3EfaH"
      },
      "execution_count": null,
      "outputs": []
    },
    {
      "cell_type": "code",
      "source": [
        "model=load_model('forest1.h5')\n",
        "video=cv2.VideoCapture(0)\n",
        "name=['forest','with fire']"
      ],
      "metadata": {
        "id": "uFCrYEFGEhWr"
      },
      "execution_count": null,
      "outputs": []
    },
    {
      "cell_type": "code",
      "source": [
        "account_sid='AC50d663c8a7c2d8b35b1fc09dfda93bda'\n",
        "auth_token='86f345babfa094d1015a0e1137dbb679'\n",
        "client =Client(account_sid,auth_token)\n",
        "message=client.messages \\\n",
        ".create(\n",
        "body='-------Forest Fire is detected,Stay Alert !!!--------',\n",
        "    from_='+19457581434',to='+916369 659 356')\n",
        "print(message.sid)\n",
        "print(\"Alert Message sent\")"
      ],
      "metadata": {
        "id": "QxD-KzD5Ekap"
      },
      "execution_count": null,
      "outputs": []
    },
    {
      "cell_type": "markdown",
      "source": [
        "**predictions and Sending Alert Message**"
      ],
      "metadata": {
        "id": "MwLgmHYzEoOh"
      }
    },
    {
      "cell_type": "code",
      "source": [
        "import cv2\n",
        "import numpy as np\n",
        "from keras.preprocessing import image\n",
        "from keras.models import load_model\n",
        "from twilio.rest import Client\n",
        "from playsound import playsound\n",
        "model=load_model('forest1.h5')\n",
        "video=cv2.VideoCapture(0)\n",
        "name=['forest','with fire']\n",
        "while(True):\n",
        "    ret,frame=video.read()\n",
        "    cv2.imshow('frame',frame)\n",
        "    cv2.imwrite('image.jpg',frame)\n",
        "    img=image.load_img('train_set/forest/NoFire (1).bmp',target_size=(64,64))\n",
        "    x=image.img_to_array(img)\n",
        "    x=np.expand_dims(x,axis=0)\n",
        "    pred=model.predict(x)\n",
        "    index=np.argmax(pred)\n",
        "    if index==0:\n",
        "        account_sid='AC50d663c8a7c2d8b35b1fc09dfda93bda'\n",
        "        auth_token='86f345babfa094d1015a0e1137dbb679'\n",
        "        client =Client(account_sid,auth_token)\n",
        "        message=client.messages \\\n",
        "        .create(body='-------Fire is detected,Stay Alert !!!--------',\n",
        "                from_='+19457581434',to='+916369 659 356')\n",
        "        print(message.sid)\n",
        "        print('Fire detected')\n",
        "        print(\"Alert Message sent!\")\n",
        "        playsound('tornado-siren.mp3')\n",
        "        \n",
        "    else:\n",
        "        print('No Danger')\n",
        "        cv2.imshow(\"image.jpg\",frame)\n",
        "        if cv2.waitkey(2)&0xff == ord('q'):\n",
        "            break\n",
        "video.release()\n",
        "cv2.destroyAllWindows()"
      ],
      "metadata": {
        "id": "IHgn_JCCEk1N"
      },
      "execution_count": null,
      "outputs": []
    },
    {
      "cell_type": "code",
      "source": [
        "from twilio.rest import Client\n",
        "if pred==0:\n",
        "  print('Forest fire')\n",
        "  from twilio.rest import Client\n",
        "  account_sid='AC0f20fb7b8e71118fa14d874dc2384676'\n",
        "  auth_token='74902c8f190f5a4d288bbf5e3b48c84e'\n",
        "  client=Client(account_sid,auth_token)\n",
        "  message=client.messages \\\n",
        "  .create(\n",
        "      body='forest fire is detected,stay alert',\n",
        "      #use twilio free number\n",
        "      from_='+18608542959',\n",
        "      #to number\n",
        "      to='+916380889559')\n",
        "  print(message.sid)\n",
        "  print(\"Fire detected\")\n",
        "  print(\"SMS Sent!\")\n",
        "elif pred==1:\n",
        "  print('No Fire')"
      ],
      "metadata": {
        "id": "tpbYCldXFHvu"
      },
      "execution_count": null,
      "outputs": []
    }
  ]
}